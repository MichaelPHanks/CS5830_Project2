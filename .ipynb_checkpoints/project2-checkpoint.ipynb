{
 "cells": [
  {
   "cell_type": "markdown",
   "id": "cc2c8c4c-ac5e-4897-aabc-e16844987747",
   "metadata": {},
   "source": [
    "Correlation plot is between one population and two varaibles of comparison\n",
    "T - tests compare means between two populations and one variable of comparison\n",
    "\n",
    "\n",
    "stats.ttest_ind(df[df.State == 'UT'].Score, df[df.State =='UT'].Score)\n",
    "\n",
    "        http://localhost:8888/tree?token=bbd94d3c8195a226912c267fd29c4a6191bbfd8ecd3afb6a\n",
    "\n",
    "        crime-housing-austin-2015.csv\n",
    "0.05 p - vaue is saying that there is a 1 in 20 chance that\n",
    "\n",
    "A p-value less than 0.05 is typically considered to be statistically significant, in which case the null hypothesis should be rejected. A p-value greater than 0.05 means that deviation from the null hypothesis is not statistically significant, and the null hypothesis is not rejected\n",
    "\n",
    "\n",
    "\n",
    "\n",
    "Potential t - test: two separate locations (or types of locations) and comparing a ratio of median home income and unemployment\n",
    "\n",
    "Potential p - value test: median income and unemployment for all zip codes with murder "
   ]
  },
  {
   "cell_type": "code",
   "execution_count": null,
   "id": "34b67311-0038-45b8-8736-4c6c8949d012",
   "metadata": {},
   "outputs": [],
   "source": [
    "import pandas as pd\n",
    "\n",
    "import seaborn as sns\n",
    "\n",
    "import numpy as np\n",
    "from matplotlib import pyplot as plt\n",
    "from scipy import stats\n",
    "\n",
    "dataset = pd.read_csv('crime-housing-austin-2015.csv')\n",
    "dataset['Medianhouseholdincome'] = dataset['Medianhouseholdincome'].str.replace('$', '').astype('float')\n",
    "dataset['Unemployment'] = dataset['Unemployment'].str.replace('%', '').astype('float')\n",
    "dataset['Medianrent'] = dataset['Medianrent'].str.replace('$', '').astype('float')\n",
    "\n",
    "dataset['Percentageofrentalunitsinpoorcondition'] = dataset['Percentageofrentalunitsinpoorcondition'].str.replace('%', '').astype('float')\n",
    "dataset= dataset.dropna()\n",
    "\n",
    "\n",
    "\n",
    "datasetGrouped = dataset.groupby(['Zip_Code_Crime']).agg({'Medianhouseholdincome':'first', 'Unemployment':'first','Populationwithdisability':'first','Medianrent':'first', 'Percentageofrentalunitsinpoorcondition' : 'first'}).reset_index()\n",
    "lowIncome = dataset[dataset.Medianhouseholdincome <= 30000]\n",
    "\n",
    "\n",
    "\n",
    "\n",
    "\n",
    "lowIncomeAndHighUnemployment = lowIncome[lowIncome.Unemployment < 12]\n",
    "##len(lowIncomeAndHighUnemployment)\n",
    "\n",
    "\n"
   ]
  },
  {
   "cell_type": "code",
   "execution_count": null,
   "id": "452e7a38-406a-405d-9c01-b0b581713830",
   "metadata": {},
   "outputs": [],
   "source": [
    "occurrences_per_value= dataset['Zip_Code_Crime'].value_counts().reset_index()\n",
    "\n",
    "mergedDatasets = pd.merge(occurrences_per_value, datasetGrouped, on='Zip_Code_Crime')\n",
    "\n",
    "\n",
    "sns.regplot(x='count', y='Unemployment',data=mergedDatasets)\n"
   ]
  },
  {
   "cell_type": "code",
   "execution_count": null,
   "id": "83e95515-1bdb-408e-b043-7e8cfb28237c",
   "metadata": {},
   "outputs": [],
   "source": [
    "## open up the other dataset\n",
    "\n",
    "zipCodes = pd.read_csv('AustinZipCodes.csv')\n",
    "zipCodes['Population'] = zipCodes['Population'].str.replace(',', '').astype('float')\n",
    "\n",
    "zipCodes['Population'] = zipCodes['Population'].astype(int)\n",
    "mergedDatasets.rename(columns={'Zip_Code_Crime': 'Zip Code'}, inplace=True)\n",
    "\n",
    "zipCodesPopulationAndCrimes = pd.merge(mergedDatasets, zipCodes, on='Zip Code')\n",
    "\n"
   ]
  },
  {
   "cell_type": "code",
   "execution_count": null,
   "id": "b59d93af-f86e-41d7-8fc8-73f417d6a0e8",
   "metadata": {},
   "outputs": [],
   "source": [
    "\n",
    "zipCodesPopulationAndCrimes['Crime/Population'] = zipCodesPopulationAndCrimes['count'] / zipCodesPopulationAndCrimes['Population']\n",
    "\n",
    "\n",
    "\n",
    "\n",
    "zipCodesPopulationAndCrimes.rename(columns={'Percentageofrentalunitsinpoorcondition': '% Rental Units in Poor Condition'}, inplace=True)\n",
    "#sns.regplot(x='Crime/Population', y='% Rental Units in Poor Condition',data=zipCodesPopulationAndCrimes)\n",
    "display(stats.pearsonr(zipCodesPopulationAndCrimes['% Rental Units in Poor Condition'], zipCodesPopulationAndCrimes['Crime/Population']))\n",
    "\n",
    "zipCodesPopulationAndCrimes = zipCodesPopulationAndCrimes[zipCodesPopulationAndCrimes['Crime/Population'] < 0.5]\n",
    "\n",
    "sns.regplot(x='Crime/Population', y='% Rental Units in Poor Condition',data=zipCodesPopulationAndCrimes)\n",
    "plt.title('Percentage of Units in Poor Condition to Crime Per Population In Each Zip Code')\n",
    "display(stats.pearsonr(zipCodesPopulationAndCrimes['% Rental Units in Poor Condition'], zipCodesPopulationAndCrimes['Crime/Population']))\n"
   ]
  }
 ],
 "metadata": {
  "kernelspec": {
   "display_name": "Python 3 (ipykernel)",
   "language": "python",
   "name": "python3"
  },
  "language_info": {
   "codemirror_mode": {
    "name": "ipython",
    "version": 3
   },
   "file_extension": ".py",
   "mimetype": "text/x-python",
   "name": "python",
   "nbconvert_exporter": "python",
   "pygments_lexer": "ipython3",
   "version": "3.9.13"
  }
 },
 "nbformat": 4,
 "nbformat_minor": 5
}
