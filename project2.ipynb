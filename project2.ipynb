{
 "cells": [
  {
   "cell_type": "markdown",
   "id": "cc2c8c4c-ac5e-4897-aabc-e16844987747",
   "metadata": {},
   "source": [
    "Correlation plot is between one population and two varaibles of comparison\n",
    "T - tests compare means between two populations and one variable of comparison\n",
    "\n",
    "\n",
    "stats.ttest_ind(df[df.State == 'UT'].Score, df[df.State =='UT'].Score)\n",
    "\n",
    "        http://localhost:8888/tree?token=bbd94d3c8195a226912c267fd29c4a6191bbfd8ecd3afb6a\n",
    "\n",
    "        crime-housing-austin-2015.csv\n",
    "0.05 p - vaue is saying that there is a 1 in 20 chance that\n",
    "\n",
    "A p-value less than 0.05 is typically considered to be statistically significant, in which case the null hypothesis should be rejected. A p-value greater than 0.05 means that deviation from the null hypothesis is not statistically significant, and the null hypothesis is not rejected\n",
    "\n",
    "\n",
    "\n",
    "\n",
    "Potential t - test: two separate locations (or types of locations) and comparing a ratio of median home income and unemployment\n",
    "\n",
    "Potential p - value test: median income and unemployment for all zip codes with murder "
   ]
  },
  {
   "cell_type": "code",
   "execution_count": null,
   "id": "34b67311-0038-45b8-8736-4c6c8949d012",
   "metadata": {},
   "outputs": [],
   "source": []
  }
 ],
 "metadata": {
  "kernelspec": {
   "display_name": "Python 3 (ipykernel)",
   "language": "python",
   "name": "python3"
  },
  "language_info": {
   "codemirror_mode": {
    "name": "ipython",
    "version": 3
   },
   "file_extension": ".py",
   "mimetype": "text/x-python",
   "name": "python",
   "nbconvert_exporter": "python",
   "pygments_lexer": "ipython3",
   "version": "3.10.6"
  }
 },
 "nbformat": 4,
 "nbformat_minor": 5
}
